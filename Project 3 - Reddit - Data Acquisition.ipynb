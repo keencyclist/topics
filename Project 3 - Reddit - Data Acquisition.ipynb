{
 "cells": [
  {
   "cell_type": "markdown",
   "metadata": {},
   "source": [
    "## Text Classification - Reddit\n",
    "\n",
    "### Data Acquisition"
   ]
  },
  {
   "cell_type": "code",
   "execution_count": 1,
   "metadata": {},
   "outputs": [],
   "source": [
    "import pandas as pd\n",
    "import requests\n",
    "import time"
   ]
  },
  {
   "cell_type": "code",
   "execution_count": 3,
   "metadata": {},
   "outputs": [],
   "source": [
    "# function to get posts\n",
    "def get_reddit_posts(subreddit, pages):\n",
    "    url = \"https://www.reddit.com/r/\" + subreddit + \".json\"\n",
    "    headers = {'User-agent':'Time Bandit'}\n",
    "    after = None\n",
    "    posts = []\n",
    "    for j in range(pages):\n",
    "        if after==None:\n",
    "            params = {}\n",
    "        else:\n",
    "            params = {'after':after}\n",
    "        print(j)  # just to keep track of progress while it is running\n",
    "        res = requests.get(url,params=params, headers=headers)\n",
    "        if res.status_code==200:\n",
    "            the_json = res.json()\n",
    "            for i in range(len(the_json['data']['children'])):\n",
    "                posts.append({'subreddit': the_json['data']['children'][i]['data']['subreddit'],\n",
    "                                  'name':the_json['data']['children'][i]['data']['name'],\n",
    "                                  'title':the_json['data']['children'][i]['data']['title'],\n",
    "                              'text':the_json['data']['children'][i]['data']['selftext'],\n",
    "                              'url':the_json['data']['children'][i]['data']['url'],\n",
    "                                 'is_self': the_json['data']['children'][i]['data']['is_self']})\n",
    "            after = the_json['data']['after']\n",
    "        else:\n",
    "            print(res.status_code)\n",
    "            break\n",
    "        time.sleep(1)\n",
    "    return pd.DataFrame(posts)    "
   ]
  },
  {
   "cell_type": "code",
   "execution_count": null,
   "metadata": {},
   "outputs": [],
   "source": [
    "# commented out to not re-run\n",
    "# df = get_reddit_posts('EatCheapAndHealthy',40)\n",
    "# df.to_pickle('eatcheap.pkl')"
   ]
  },
  {
   "cell_type": "code",
   "execution_count": 77,
   "metadata": {},
   "outputs": [
    {
     "data": {
      "text/plain": [
       "(745, 6)"
      ]
     },
     "execution_count": 77,
     "metadata": {},
     "output_type": "execute_result"
    }
   ],
   "source": [
    "df.shape"
   ]
  },
  {
   "cell_type": "code",
   "execution_count": 59,
   "metadata": {},
   "outputs": [],
   "source": [
    "# commented out to not re-run\n",
    "# df = get_reddit_posts('askscience',40)\n",
    "# df.to_pickle('science.pkl')"
   ]
  },
  {
   "cell_type": "markdown",
   "metadata": {},
   "source": [
    "### Alternate method using Pushshift.io "
   ]
  },
  {
   "cell_type": "code",
   "execution_count": 58,
   "metadata": {},
   "outputs": [],
   "source": [
    "# Download posts via pushshift.io\n",
    "subreddit = 'EatCheapAndHealthy'\n",
    "posts = 1000\n",
    "headers = {'User-agent':'Time Bandit'}\n",
    "url = \"https://api.pushshift.io/reddit/search/submission/?subreddit=\"+subreddit+\"&size=\"+str(posts)+\"&before=90d\"\n",
    "res = requests.get(url,headers=headers)\n",
    "df3 = pd.DataFrame(res.json()['data'])"
   ]
  },
  {
   "cell_type": "code",
   "execution_count": 67,
   "metadata": {},
   "outputs": [
    {
     "data": {
      "text/plain": [
       "True     764\n",
       "False    236\n",
       "Name: is_self, dtype: int64"
      ]
     },
     "execution_count": 67,
     "metadata": {},
     "output_type": "execute_result"
    }
   ],
   "source": [
    "df.is_self.value_counts()"
   ]
  },
  {
   "cell_type": "code",
   "execution_count": 60,
   "metadata": {},
   "outputs": [],
   "source": [
    "df3['created'] = df.created_utc.map(lambda x: time.strftime('%Y-%m-%d %H:%M:%S', time.localtime(x)))"
   ]
  },
  {
   "cell_type": "code",
   "execution_count": 69,
   "metadata": {},
   "outputs": [
    {
     "data": {
      "text/html": [
       "<div>\n",
       "<style scoped>\n",
       "    .dataframe tbody tr th:only-of-type {\n",
       "        vertical-align: middle;\n",
       "    }\n",
       "\n",
       "    .dataframe tbody tr th {\n",
       "        vertical-align: top;\n",
       "    }\n",
       "\n",
       "    .dataframe thead th {\n",
       "        text-align: right;\n",
       "    }\n",
       "</style>\n",
       "<table border=\"1\" class=\"dataframe\">\n",
       "  <thead>\n",
       "    <tr style=\"text-align: right;\">\n",
       "      <th></th>\n",
       "      <th>author</th>\n",
       "      <th>author_cakeday</th>\n",
       "      <th>author_flair_background_color</th>\n",
       "      <th>author_flair_css_class</th>\n",
       "      <th>author_flair_richtext</th>\n",
       "      <th>author_flair_template_id</th>\n",
       "      <th>author_flair_text</th>\n",
       "      <th>author_flair_text_color</th>\n",
       "      <th>author_flair_type</th>\n",
       "      <th>author_fullname</th>\n",
       "      <th>...</th>\n",
       "      <th>subreddit_type</th>\n",
       "      <th>thumbnail</th>\n",
       "      <th>thumbnail_height</th>\n",
       "      <th>thumbnail_width</th>\n",
       "      <th>title</th>\n",
       "      <th>updated_utc</th>\n",
       "      <th>url</th>\n",
       "      <th>whitelist_status</th>\n",
       "      <th>wls</th>\n",
       "      <th>created</th>\n",
       "    </tr>\n",
       "  </thead>\n",
       "  <tbody>\n",
       "    <tr>\n",
       "      <th>0</th>\n",
       "      <td>wanderer133</td>\n",
       "      <td>NaN</td>\n",
       "      <td>NaN</td>\n",
       "      <td>None</td>\n",
       "      <td>[]</td>\n",
       "      <td>NaN</td>\n",
       "      <td>None</td>\n",
       "      <td>NaN</td>\n",
       "      <td>text</td>\n",
       "      <td>t2_r63xx</td>\n",
       "      <td>...</td>\n",
       "      <td>public</td>\n",
       "      <td>self</td>\n",
       "      <td>NaN</td>\n",
       "      <td>NaN</td>\n",
       "      <td>Few ingredients, vegetarian meal to impress a ...</td>\n",
       "      <td>NaN</td>\n",
       "      <td>https://www.reddit.com/r/EatCheapAndHealthy/co...</td>\n",
       "      <td>all_ads</td>\n",
       "      <td>6</td>\n",
       "      <td>2019-04-03 22:10:10</td>\n",
       "    </tr>\n",
       "    <tr>\n",
       "      <th>1</th>\n",
       "      <td>Avocadosandtomatoes</td>\n",
       "      <td>NaN</td>\n",
       "      <td>NaN</td>\n",
       "      <td>None</td>\n",
       "      <td>[]</td>\n",
       "      <td>NaN</td>\n",
       "      <td>None</td>\n",
       "      <td>NaN</td>\n",
       "      <td>text</td>\n",
       "      <td>t2_qyszz</td>\n",
       "      <td>...</td>\n",
       "      <td>public</td>\n",
       "      <td>self</td>\n",
       "      <td>NaN</td>\n",
       "      <td>NaN</td>\n",
       "      <td>App that you can see weekly grocery ads</td>\n",
       "      <td>NaN</td>\n",
       "      <td>https://www.reddit.com/r/EatCheapAndHealthy/co...</td>\n",
       "      <td>all_ads</td>\n",
       "      <td>6</td>\n",
       "      <td>2019-04-03 21:48:55</td>\n",
       "    </tr>\n",
       "    <tr>\n",
       "      <th>2</th>\n",
       "      <td>ChiefGrief</td>\n",
       "      <td>NaN</td>\n",
       "      <td>NaN</td>\n",
       "      <td>None</td>\n",
       "      <td>[]</td>\n",
       "      <td>NaN</td>\n",
       "      <td>None</td>\n",
       "      <td>NaN</td>\n",
       "      <td>text</td>\n",
       "      <td>t2_fl1zn</td>\n",
       "      <td>...</td>\n",
       "      <td>public</td>\n",
       "      <td>self</td>\n",
       "      <td>NaN</td>\n",
       "      <td>NaN</td>\n",
       "      <td>Any salad dressing low in calories that tastes...</td>\n",
       "      <td>NaN</td>\n",
       "      <td>https://www.reddit.com/r/EatCheapAndHealthy/co...</td>\n",
       "      <td>all_ads</td>\n",
       "      <td>6</td>\n",
       "      <td>2019-04-03 19:49:04</td>\n",
       "    </tr>\n",
       "    <tr>\n",
       "      <th>3</th>\n",
       "      <td>artiepan</td>\n",
       "      <td>NaN</td>\n",
       "      <td>NaN</td>\n",
       "      <td>None</td>\n",
       "      <td>[]</td>\n",
       "      <td>NaN</td>\n",
       "      <td>None</td>\n",
       "      <td>NaN</td>\n",
       "      <td>text</td>\n",
       "      <td>t2_c6vdwpl</td>\n",
       "      <td>...</td>\n",
       "      <td>public</td>\n",
       "      <td>self</td>\n",
       "      <td>NaN</td>\n",
       "      <td>NaN</td>\n",
       "      <td>Baby food that is cheaper than store bought</td>\n",
       "      <td>NaN</td>\n",
       "      <td>https://www.reddit.com/r/EatCheapAndHealthy/co...</td>\n",
       "      <td>all_ads</td>\n",
       "      <td>6</td>\n",
       "      <td>2019-04-03 16:45:48</td>\n",
       "    </tr>\n",
       "    <tr>\n",
       "      <th>4</th>\n",
       "      <td>coverslide</td>\n",
       "      <td>NaN</td>\n",
       "      <td>NaN</td>\n",
       "      <td>None</td>\n",
       "      <td>[]</td>\n",
       "      <td>NaN</td>\n",
       "      <td>None</td>\n",
       "      <td>NaN</td>\n",
       "      <td>text</td>\n",
       "      <td>t2_58rai</td>\n",
       "      <td>...</td>\n",
       "      <td>public</td>\n",
       "      <td>self</td>\n",
       "      <td>NaN</td>\n",
       "      <td>NaN</td>\n",
       "      <td>Salad dressing recommendations</td>\n",
       "      <td>NaN</td>\n",
       "      <td>https://www.reddit.com/r/EatCheapAndHealthy/co...</td>\n",
       "      <td>all_ads</td>\n",
       "      <td>6</td>\n",
       "      <td>2019-04-03 16:42:37</td>\n",
       "    </tr>\n",
       "  </tbody>\n",
       "</table>\n",
       "<p>5 rows × 69 columns</p>\n",
       "</div>"
      ],
      "text/plain": [
       "                author author_cakeday author_flair_background_color  \\\n",
       "0          wanderer133            NaN                           NaN   \n",
       "1  Avocadosandtomatoes            NaN                           NaN   \n",
       "2           ChiefGrief            NaN                           NaN   \n",
       "3             artiepan            NaN                           NaN   \n",
       "4           coverslide            NaN                           NaN   \n",
       "\n",
       "  author_flair_css_class author_flair_richtext author_flair_template_id  \\\n",
       "0                   None                    []                      NaN   \n",
       "1                   None                    []                      NaN   \n",
       "2                   None                    []                      NaN   \n",
       "3                   None                    []                      NaN   \n",
       "4                   None                    []                      NaN   \n",
       "\n",
       "  author_flair_text author_flair_text_color author_flair_type author_fullname  \\\n",
       "0              None                     NaN              text        t2_r63xx   \n",
       "1              None                     NaN              text        t2_qyszz   \n",
       "2              None                     NaN              text        t2_fl1zn   \n",
       "3              None                     NaN              text      t2_c6vdwpl   \n",
       "4              None                     NaN              text        t2_58rai   \n",
       "\n",
       "          ...           subreddit_type  thumbnail  thumbnail_height  \\\n",
       "0         ...                   public       self               NaN   \n",
       "1         ...                   public       self               NaN   \n",
       "2         ...                   public       self               NaN   \n",
       "3         ...                   public       self               NaN   \n",
       "4         ...                   public       self               NaN   \n",
       "\n",
       "   thumbnail_width                                              title  \\\n",
       "0              NaN  Few ingredients, vegetarian meal to impress a ...   \n",
       "1              NaN            App that you can see weekly grocery ads   \n",
       "2              NaN  Any salad dressing low in calories that tastes...   \n",
       "3              NaN        Baby food that is cheaper than store bought   \n",
       "4              NaN                     Salad dressing recommendations   \n",
       "\n",
       "  updated_utc                                                url  \\\n",
       "0         NaN  https://www.reddit.com/r/EatCheapAndHealthy/co...   \n",
       "1         NaN  https://www.reddit.com/r/EatCheapAndHealthy/co...   \n",
       "2         NaN  https://www.reddit.com/r/EatCheapAndHealthy/co...   \n",
       "3         NaN  https://www.reddit.com/r/EatCheapAndHealthy/co...   \n",
       "4         NaN  https://www.reddit.com/r/EatCheapAndHealthy/co...   \n",
       "\n",
       "  whitelist_status wls              created  \n",
       "0          all_ads   6  2019-04-03 22:10:10  \n",
       "1          all_ads   6  2019-04-03 21:48:55  \n",
       "2          all_ads   6  2019-04-03 19:49:04  \n",
       "3          all_ads   6  2019-04-03 16:45:48  \n",
       "4          all_ads   6  2019-04-03 16:42:37  \n",
       "\n",
       "[5 rows x 69 columns]"
      ]
     },
     "execution_count": 69,
     "metadata": {},
     "output_type": "execute_result"
    }
   ],
   "source": [
    "df3.head()"
   ]
  }
 ],
 "metadata": {
  "kernelspec": {
   "display_name": "Python 3",
   "language": "python",
   "name": "python3"
  },
  "language_info": {
   "codemirror_mode": {
    "name": "ipython",
    "version": 3
   },
   "file_extension": ".py",
   "mimetype": "text/x-python",
   "name": "python",
   "nbconvert_exporter": "python",
   "pygments_lexer": "ipython3",
   "version": "3.6.5"
  }
 },
 "nbformat": 4,
 "nbformat_minor": 2
}
